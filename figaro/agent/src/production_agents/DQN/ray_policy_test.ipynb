{
 "cells": [
  {
   "cell_type": "code",
   "execution_count": null,
   "metadata": {},
   "outputs": [],
   "source": [
    "import requests\n",
    "import numpy as np\n",
    "import json"
   ]
  },
  {
   "cell_type": "code",
   "execution_count": null,
   "metadata": {},
   "outputs": [],
   "source": [
    "from src.production_agents.DQN.production_agent_DQN import ProductionAgentDQN"
   ]
  },
  {
   "cell_type": "code",
   "execution_count": null,
   "metadata": {},
   "outputs": [],
   "source": [
    "def random_obs():\n",
    "    return {\n",
    "       \"n_instances\": int(np.random.randint(1, 20)),\n",
    "       \"pressure\": float(np.random.uniform(0.1, 1.0)),\n",
    "       \"queue_length_dominant\": float(np.random.uniform(0.0, 1.0)),\n",
    "       \"utilization\": float(np.random.uniform(0.0, 1.0)),\n",
    "       \"workload\": float(np.random.randint(5, 20))\n",
    "    }\n",
    "\n",
    "def flatten_obs(obs_dict):\n",
    "    return np.concatenate([v for v in obs_dict.values()])\n",
    "\n",
    "learn_dict = {\n",
    "    \"observations\": [],\n",
    "    \"actions\": [],\n",
    "    \"rewards\": [],\n",
    "    \"next_observations\": [],\n",
    "    \"timesteps\": []\n",
    "}"
   ]
  },
  {
   "cell_type": "code",
   "execution_count": null,
   "metadata": {},
   "outputs": [],
   "source": [
    "observation = random_obs()\n",
    "response = requests.post('http://localhost:5000/action', json={'observation': observation})\n",
    "response.json()"
   ]
  },
  {
   "cell_type": "code",
   "execution_count": null,
   "metadata": {},
   "outputs": [],
   "source": [
    "response = requests.post('http://localhost:5000/shutdown')\n",
    "response"
   ]
  },
  {
   "cell_type": "code",
   "execution_count": null,
   "metadata": {},
   "outputs": [],
   "source": [
    "response.json()"
   ]
  },
  {
   "cell_type": "code",
   "execution_count": null,
   "metadata": {},
   "outputs": [],
   "source": [
    "for i in range(10):\n",
    "    observation = random_obs()\n",
    "    response = requests.post('http://localhost:5000/action', json={'observation': observation})\n",
    "    action = response.json()['action']\n",
    "    reward = np.random.uniform(0, 1)\n",
    "    next_observation = random_obs()\n",
    "    obs = [v for v in observation.values()]\n",
    "    next_obs = [v for v in next_observation.values()]\n",
    "    learn_dict['observations'].append(obs)\n",
    "    learn_dict['actions'].append(action)\n",
    "    learn_dict['rewards'].append(reward)\n",
    "    learn_dict['next_observations'].append(next_obs)\n",
    "    learn_dict['timesteps'].append(i)\n",
    "\n",
    "print('learn dict dimensions:', len(learn_dict['observations']), len(learn_dict['actions']), len(learn_dict['rewards']), len(learn_dict['next_observations']), len(learn_dict['timesteps']))\n",
    "print('obs dimensions:', len(learn_dict['observations'][0]), len(learn_dict['next_observations'][0]))\n",
    "\n",
    "response = requests.post('http://localhost:5000/learn', json=learn_dict)\n",
    "print(response.json())"
   ]
  },
  {
   "cell_type": "code",
   "execution_count": null,
   "metadata": {},
   "outputs": [],
   "source": [
    "len(learn_dict[\"observations\"])"
   ]
  }
 ],
 "metadata": {
  "kernelspec": {
   "display_name": "Python 3 (ipykernel)",
   "language": "python",
   "name": "python3"
  },
  "language_info": {
   "codemirror_mode": {
    "name": "ipython",
    "version": 3
   },
   "file_extension": ".py",
   "mimetype": "text/x-python",
   "name": "python",
   "nbconvert_exporter": "python",
   "pygments_lexer": "ipython3",
   "version": "3.11.11"
  }
 },
 "nbformat": 4,
 "nbformat_minor": 4
}
